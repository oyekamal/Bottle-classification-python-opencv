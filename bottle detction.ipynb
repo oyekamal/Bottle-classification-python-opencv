{
 "cells": [
  {
   "cell_type": "code",
   "execution_count": 2,
   "metadata": {},
   "outputs": [],
   "source": [
    "from __future__ import print_function\n",
    "from imutils import perspective\n",
    "from imutils import contours\n",
    "import numpy as np\n",
    "import argparse\n",
    "import imutils\n",
    "import cv2"
   ]
  },
  {
   "cell_type": "code",
   "execution_count": 3,
   "metadata": {},
   "outputs": [],
   "source": [
    "def order_points_old(pts):\n",
    "    # initialize a list of coordinates that will be ordered\n",
    "    # such that the first entry in the list is the top-left,\n",
    "    # the second entry is the top-right, the third is the\n",
    "    # bottom-right, and the fourth is the bottom-left\n",
    "    rect = np.zeros((4, 2), dtype=\"float32\")\n",
    "    # the top-left point will have the smallest sum, whereas\n",
    "    # the bottom-right point will have the largest sum\n",
    "    s = pts.sum(axis=1)\n",
    "    rect[0] = pts[np.argmin(s)]\n",
    "    rect[2] = pts[np.argmax(s)]\n",
    "    # now, compute the difference between the points, the\n",
    "    # top-right point will have the smallest difference,\n",
    "    # whereas the bottom-left will have the largest difference\n",
    "    diff = np.diff(pts, axis=1)\n",
    "    rect[1] = pts[np.argmin(diff)]\n",
    "    rect[3] = pts[np.argmax(diff)]\n",
    "    # return the ordered coordinates\n",
    "    return rect"
   ]
  },
  {
   "cell_type": "code",
   "execution_count": 4,
   "metadata": {},
   "outputs": [],
   "source": [
    "import cv2\n",
    "import numpy as np\n",
    "kernal=np.ones((3,3 ),np.uint8)\n",
    "\n",
    "# background=cv2.imread('background.jpeg',1)\n",
    "\n",
    "image=cv2.imread('background1.jpeg',1)\n",
    "\n",
    "graytin=cv2.cvtColor(image, cv2.COLOR_BGR2GRAY)\n",
    "graytin=cv2.GaussianBlur(graytin,(9,9),3)\n",
    "# blur=cv2.GaussianBlur(graytin,(9,9),3)\n",
    "# dila=cv2.dilate(blur,kernal,iterations=5)\n",
    "edged=cv2.Canny(graytin,84,0) \n",
    "\n",
    "\n",
    "\n",
    "\n",
    "# cv2.imshow('background',background) \n",
    "#cv2.imshow('tin',tin)\n",
    "#cv2.imshow('gray',graytin)\n",
    "cv2.imshow('canny',edged)\n",
    "\n",
    "\n",
    "\n",
    "\n",
    "if cv2.waitKey(0)& 0xFF ==27:\n",
    "    cv2.destroyAllWindows()\n",
    "\n"
   ]
  },
  {
   "cell_type": "code",
   "execution_count": 5,
   "metadata": {},
   "outputs": [],
   "source": [
    "# find contours in the edge map\n",
    "cnts = cv2.findContours(edged.copy(), cv2.RETR_EXTERNAL,\n",
    "\tcv2.CHAIN_APPROX_SIMPLE)\n",
    "cnts = imutils.grab_contours(cnts)\n",
    "# sort the contours from left-to-right and initialize the bounding box\n",
    "# point colors\n",
    "(cnts, _) = contours.sort_contours(cnts)\n",
    "colors = ((0, 0, 255), (240, 0, 159), (255, 0, 0), (255, 255, 0))"
   ]
  },
  {
   "cell_type": "code",
   "execution_count": 1,
   "metadata": {},
   "outputs": [
    {
     "ename": "NameError",
     "evalue": "name 'cnts' is not defined",
     "output_type": "error",
     "traceback": [
      "\u001b[1;31m---------------------------------------------------------------------------\u001b[0m",
      "\u001b[1;31mNameError\u001b[0m                                 Traceback (most recent call last)",
      "\u001b[1;32m<ipython-input-1-aaeb1fdbc5c4>\u001b[0m in \u001b[0;36m<module>\u001b[1;34m\u001b[0m\n\u001b[0;32m      1\u001b[0m \u001b[0mboxlist\u001b[0m\u001b[1;33m=\u001b[0m\u001b[1;33m[\u001b[0m\u001b[1;33m]\u001b[0m\u001b[1;31m# loop over the contours individually\u001b[0m\u001b[1;33m\u001b[0m\u001b[1;33m\u001b[0m\u001b[0m\n\u001b[1;32m----> 2\u001b[1;33m \u001b[1;32mfor\u001b[0m \u001b[1;33m(\u001b[0m\u001b[0mi\u001b[0m\u001b[1;33m,\u001b[0m \u001b[0mc\u001b[0m\u001b[1;33m)\u001b[0m \u001b[1;32min\u001b[0m \u001b[0menumerate\u001b[0m\u001b[1;33m(\u001b[0m\u001b[0mcnts\u001b[0m\u001b[1;33m)\u001b[0m\u001b[1;33m:\u001b[0m\u001b[1;33m\u001b[0m\u001b[1;33m\u001b[0m\u001b[0m\n\u001b[0m\u001b[0;32m      3\u001b[0m     \u001b[1;31m# if the contour is not sufficiently large, ignore it\u001b[0m\u001b[1;33m\u001b[0m\u001b[1;33m\u001b[0m\u001b[1;33m\u001b[0m\u001b[0m\n\u001b[0;32m      4\u001b[0m     \u001b[1;32mif\u001b[0m \u001b[0mcv2\u001b[0m\u001b[1;33m.\u001b[0m\u001b[0mcontourArea\u001b[0m\u001b[1;33m(\u001b[0m\u001b[0mc\u001b[0m\u001b[1;33m)\u001b[0m \u001b[1;33m<\u001b[0m \u001b[1;36m100\u001b[0m\u001b[1;33m:\u001b[0m\u001b[1;33m\u001b[0m\u001b[1;33m\u001b[0m\u001b[0m\n\u001b[0;32m      5\u001b[0m         \u001b[1;32mcontinue\u001b[0m\u001b[1;33m\u001b[0m\u001b[1;33m\u001b[0m\u001b[0m\n",
      "\u001b[1;31mNameError\u001b[0m: name 'cnts' is not defined"
     ]
    }
   ],
   "source": [
    "boxlist=[]# loop over the contours individually\n",
    "for (i, c) in enumerate(cnts):\n",
    "    # if the contour is not sufficiently large, ignore it\n",
    "    if cv2.contourArea(c) < 100:\n",
    "        continue\n",
    "    # compute the rotated bounding box of the contour, then\n",
    "    # draw the contours\n",
    "    box = cv2.minAreaRect(c)\n",
    "    box = cv2.cv.BoxPoints(box) if imutils.is_cv2() else cv2.boxPoints(box)\n",
    "    box = np.array(box, dtype=\"int\")\n",
    "    cv2.drawContours(image, [box], -1, (0, 255, 0), 2)\n",
    "    # show the original coordinates\n",
    "    print((\"Object #{}:\".format(i + 1)))\n",
    "    boxlist.append(box)\n",
    "    print(box)\n",
    "    rect = order_points_old(box)\n",
    "    # check to see if the new method should be used for\n",
    "    # ordering the coordinates\n",
    "    if 1 > 0:\n",
    "        rect = perspective.order_points(box)\n",
    "    # show the re-ordered coordinates\n",
    "    print(rect.astype(\"int\"))\n",
    "    print(\"\")\n",
    "    rect = order_points_old(box)\n",
    "    # check to see if the new method should be used for\n",
    "    # ordering the coordinates\n",
    "    if len(boxlist) > 0:\n",
    "        rect = perspective.order_points(box)\n",
    "    # show the re-ordered coordinates\n",
    "    print(rect.astype(\"int\"))\n",
    "    print(\"\")\n",
    "    for ((x, y), color) in zip(rect, colors):\n",
    "        cv2.circle(image, (int(x), int(y)), 5, color, -1)\n",
    "    # draw the object num at the top-left corner\n",
    "        cv2.putText(image, \"Object #{}\".format(i + 1),\n",
    "                (int(rect[0][0] - 15), int(rect[0][1] - 15)),\n",
    "        cv2.FONT_HERSHEY_SIMPLEX, 0.55, (255, 255, 255), 2)\n",
    "    # show the image\n",
    "        cv2.imshow(\"Image\", image)\n",
    "        cv2.waitKey(0)"
   ]
  },
  {
   "cell_type": "code",
   "execution_count": 6,
   "metadata": {},
   "outputs": [
    {
     "name": "stdout",
     "output_type": "stream",
     "text": [
      "[[278  25]\n",
      " [296  28]\n",
      " [294  39]\n",
      " [276  36]]\n",
      "\n"
     ]
    }
   ],
   "source": [
    "# order the points in the contour such that they appear\n",
    "  # in top-left, top-right, bottom-right, and bottom-left\n",
    "  # order, then draw the outline of the rotated bounding\n",
    "  # box\n",
    "rect = order_points_old(box)\n",
    "# check to see if the new method should be used for\n",
    "# ordering the coordinates\n",
    "if len(boxlist) > 0:\n",
    "    rect = perspective.order_points(box)\n",
    "# show the re-ordered coordinates\n",
    "print(rect.astype(\"int\"))\n",
    "print(\"\")"
   ]
  },
  {
   "cell_type": "code",
   "execution_count": 7,
   "metadata": {},
   "outputs": [],
   "source": [
    "for ((x, y), color) in zip(rect, colors):\n",
    "    cv2.circle(image, (int(x), int(y)), 5, color, -1)\n",
    "    # draw the object num at the top-left corner\n",
    "    cv2.putText(image, \"Object #{}\".format(i + 1),\n",
    "                (int(rect[0][0] - 15), int(rect[0][1] - 15)),\n",
    "    cv2.FONT_HERSHEY_SIMPLEX, 0.55, (255, 255, 255), 2)\n",
    "    # show the image\n",
    "    cv2.imshow(\"Image\", image)\n",
    "    cv2.waitKey(0)"
   ]
  },
  {
   "cell_type": "code",
   "execution_count": 5,
   "metadata": {
    "run_control": {
     "marked": false
    }
   },
   "outputs": [],
   "source": [
    "import cv2\n",
    "\n",
    "img=cv2.imread('background1.jpeg',1)\n",
    "def nothing(x):\n",
    "    pass\n",
    "traker=cv2.namedWindow('tracker')\n",
    "cv2.createTrackbar('low','tracker',0,255,nothing)\n",
    "cv2.createTrackbar('upper','tracker',0,255,nothing)\n",
    "kernal=np.ones((3,3 ),np.uint8)\n",
    "\n",
    "while True:\n",
    "    \n",
    "    lower=cv2.getTrackbarPos('low','tracker')\n",
    "    \n",
    "    upper=cv2.getTrackbarPos('upper','tracker')\n",
    "    blur=cv2.GaussianBlur(img,(9,9),3)\n",
    "    #dila=cv2.dilate(img,kernal,iterations=5)\n",
    "    canny=cv2.Canny(blur  ,lower,upper)\n",
    "    cv2.imshow('canny',canny)\n",
    "\n",
    "    if cv2.waitKey(1)&0xFF == 27:\n",
    "        break\n",
    "cv2.destroyAllWindows()"
   ]
  },
  {
   "cell_type": "code",
   "execution_count": null,
   "metadata": {},
   "outputs": [],
   "source": []
  },
  {
   "cell_type": "code",
   "execution_count": null,
   "metadata": {},
   "outputs": [],
   "source": []
  },
  {
   "cell_type": "code",
   "execution_count": null,
   "metadata": {},
   "outputs": [],
   "source": []
  },
  {
   "cell_type": "code",
   "execution_count": null,
   "metadata": {},
   "outputs": [],
   "source": []
  }
 ],
 "metadata": {
  "celltoolbar": "Raw Cell Format",
  "kernelspec": {
   "display_name": "Python 3.6.8 64-bit ('base': conda)",
   "language": "python",
   "name": "python36864bitbasecondaa1a218bda4144e0b95099118ea02d83a"
  },
  "language_info": {
   "codemirror_mode": {
    "name": "ipython",
    "version": 3
   },
   "file_extension": ".py",
   "mimetype": "text/x-python",
   "name": "python",
   "nbconvert_exporter": "python",
   "pygments_lexer": "ipython3",
   "version": "3.6.8"
  },
  "toc": {
   "base_numbering": 1,
   "nav_menu": {
    "height": "78px",
    "width": "284px"
   },
   "number_sections": true,
   "sideBar": true,
   "skip_h1_title": false,
   "title_cell": "Table of Contents",
   "title_sidebar": "Contents",
   "toc_cell": false,
   "toc_position": {},
   "toc_section_display": true,
   "toc_window_display": false
  },
  "varInspector": {
   "cols": {
    "lenName": 16,
    "lenType": 16,
    "lenVar": 40
   },
   "kernels_config": {
    "python": {
     "delete_cmd_postfix": "",
     "delete_cmd_prefix": "del ",
     "library": "var_list.py",
     "varRefreshCmd": "print(var_dic_list())"
    },
    "r": {
     "delete_cmd_postfix": ") ",
     "delete_cmd_prefix": "rm(",
     "library": "var_list.r",
     "varRefreshCmd": "cat(var_dic_list()) "
    }
   },
   "types_to_exclude": [
    "module",
    "function",
    "builtin_function_or_method",
    "instance",
    "_Feature"
   ],
   "window_display": false
  }
 },
 "nbformat": 4,
 "nbformat_minor": 2
}
